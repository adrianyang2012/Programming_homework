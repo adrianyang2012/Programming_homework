{
  "nbformat": 4,
  "nbformat_minor": 0,
  "metadata": {
    "colab": {
      "private_outputs": true,
      "provenance": [],
      "authorship_tag": "ABX9TyOsu4topKvZikGH8tC2VFF8",
      "include_colab_link": true
    },
    "kernelspec": {
      "name": "python3",
      "display_name": "Python 3"
    },
    "language_info": {
      "name": "python"
    }
  },
  "cells": [
    {
      "cell_type": "markdown",
      "metadata": {
        "id": "view-in-github",
        "colab_type": "text"
      },
      "source": [
        "<a href=\"https://colab.research.google.com/github/adrianyang2012/Programming_homework_codeforces/blob/main/Programming_Questions_Jan_13.ipynb\" target=\"_parent\"><img src=\"https://colab.research.google.com/assets/colab-badge.svg\" alt=\"Open In Colab\"/></a>"
      ]
    },
    {
      "cell_type": "code",
      "execution_count": null,
      "metadata": {
        "id": "hAhrRhz38dkF"
      },
      "outputs": [],
      "source": [
        "# This Question is https://codeforces.com/problemset/problem/50/A\n",
        "def find_max_dominoes(m,n):\n",
        "  if (m*n)%2 == 0:\n",
        "    return (m*n)/2\n",
        "  else:\n",
        "    return (m*n-1)/2\n",
        "#question is: https://codeforces.com/problemset/problem/231/A%EF%BC%9B\n",
        "def programming_team(length,li):\n",
        "  num = 0\n",
        "  for i in range(0,length):\n",
        "    if li[i].count(1)>1:\n",
        "      num+=1\n",
        "  return num\n",
        "#This Question is: https://codeforces.com/problemset/problem/546/A\n",
        "def soldier_bananas(bananas,banana_price):\n",
        "  total_prices = 0\n",
        "  if bananas % 2 == 0:\n",
        "    total_prices = (bananas+1)*(bananas/2)\n",
        "  else:\n",
        "    total_prices = (bananas*((bananas-1)/2))+bananas\n",
        "  return total_prices*banana_price\n",
        "# This question is https://codeforces.com/problemset/problem/155/A\n",
        "def programming_contests(contests_joined,scores):\n",
        "  highest_record = scores[0]\n",
        "  lowest_record = scores[0]\n",
        "  amazings = 0\n",
        "  for i in range(0,contests_joined):\n",
        "    if scores[i] > highest_record or scores[i] < lowest_record:\n",
        "      amazings+=1\n",
        "      if scores[i] > highest_record:\n",
        "        highest_record = scores[i]\n",
        "      else:\n",
        "        lowest_record = scores[i]\n",
        "\n",
        "  return amazings\n",
        "#This Question is https://codeforces.com/problemset/problem/1742/D\n",
        "def coprime_test(li):\n",
        "  max_i_plus_j = 0\n",
        "  for i in range(0,len(li)):\n",
        "    for j in range(0,len(li)):\n",
        "\n",
        "      biggest = li[i]\n",
        "      coprime = 1\n",
        "      if li[j]>li[i]:\n",
        "        biggest = li[j]\n",
        "      for x in range(2,int(biggest/2)+1):\n",
        "        if (li[i]%x == 0) and (li[j]%x == 0):\n",
        "          coprime = 0\n",
        "      if coprime:\n",
        "        if max_i_plus_j < i+j:\n",
        "          max_i_plus_j = i+j\n",
        "      print(coprime,li[i],li[j])\n",
        "  return max_i_plus_j+2\n",
        "# This Question is https://codeforces.com/problemset/problem/858/A\n",
        "def k_rounding_thing(n,k):\n",
        "  k_rounding = (10**k)*n\n",
        "  for i in range(1,n):\n",
        "    if i*(10**k) % n == 0:\n",
        "      k_rounding = (10**k)*i\n",
        "      return k_rounding\n",
        "\n",
        "  return k_rounding\n",
        "print(k_rounding_thing(375,4))\n"
      ]
    },
    {
      "cell_type": "code",
      "source": [
        "800/365"
      ],
      "metadata": {
        "id": "Nzce4fa1M2NF"
      },
      "execution_count": null,
      "outputs": []
    }
  ]
}